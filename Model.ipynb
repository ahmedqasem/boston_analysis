{
 "cells": [
  {
   "cell_type": "code",
   "execution_count": 1,
   "metadata": {},
   "outputs": [],
   "source": [
    "import pandas as pd\n",
    "from sklearn.model_selection import train_test_split\n",
    "import tensorflow as tf\n",
    "import numpy as np"
   ]
  },
  {
   "cell_type": "code",
   "execution_count": 2,
   "metadata": {},
   "outputs": [],
   "source": [
    "from sklearn.metrics import classification_report\n",
    "import matplotlib.pyplot as plt"
   ]
  },
  {
   "cell_type": "markdown",
   "metadata": {},
   "source": [
    "Here is some information about the data:"
   ]
  },
  {
   "cell_type": "markdown",
   "metadata": {},
   "source": [
    "<table>\n",
    "<thead>\n",
    "<tr>\n",
    "<th>Column Name</th>\n",
    "<th>Type</th>\n",
    "<th>Description</th>\n",
    "</tr>\n",
    "</thead>\n",
    "    \n",
    "<tbody>\n",
    "    \n",
    "<tr>\n",
    "<td>Offence Code</td>\n",
    "<td>Categorical</td>\n",
    "<td>number code for each offence type</td>\n",
    "</tr>\n",
    "\n",
    "<tr>\n",
    "<td>Offence Code Group</td>\n",
    "<td>Categorical</td>\n",
    "<td>group name underwhich each offence type falls</td>\n",
    "</tr>\n",
    "\n",
    "<tr>\n",
    "<td>REPORTING_AREA</td>\n",
    "<td>Categorical</td>\n",
    "<td>number code for each police area</td>\n",
    "</tr>\n",
    "\n",
    "<tr>\n",
    "<td>SHOOTING</td>\n",
    "<td>Categorical</td>\n",
    "<td>binary data indicates whether there was a shooting </td>\n",
    "</tr>\n",
    "\n",
    "<tr>\n",
    "<td>YEAR</td>\n",
    "<td>Continuous</td>\n",
    "<td>year of incident</td>\n",
    "</tr>\n",
    "\n",
    "<tr>\n",
    "<td>Month</td>\n",
    "<td>Continuous</td>\n",
    "<td>Month of incident</td>\n",
    "</tr>\n",
    "\n",
    "<tr>\n",
    "<td>Day</td>\n",
    "<td>Continuous</td>\n",
    "<td>Day of incident</td>\n",
    "</tr>\n",
    "\n",
    "<tr>\n",
    "<td>Hour</td>\n",
    "<td>Continuous</td>\n",
    "<td>Hour of incident</td>\n",
    "</tr>\n",
    "\n",
    "<tr>\n",
    "<td>Day of Week </td>\n",
    "<td>Categorical</td>\n",
    "<td>day of week of incident</td>\n",
    "</tr>\n",
    "\n",
    "\n",
    "<tr>\n",
    "<td>UCR PART</td>\n",
    "<td>Categorical</td>\n",
    "<td>UCR classification of incident (will be used as out label)</td>\n",
    "</tr>\n",
    "\n",
    "<tr>\n",
    "<td>Offence Code Group</td>\n",
    "<td>Categorical</td>\n",
    "<td>group name underwhich each offence type falls</td>\n",
    "</tr>\n",
    "\n",
    "<tr>\n",
    "<td>Street</td>\n",
    "<td>Categorical</td>\n",
    "<td>Street where the crime occured</td>\n",
    "</tr>\n",
    "\n",
    "\n",
    "\n",
    "<tr>\n",
    "<td>Lattitude</td>\n",
    "<td>Continuous</td>\n",
    "<td>Lattitude where the crime occured</td>\n",
    "</tr>\n",
    "\n",
    "<tr>\n",
    "<td>Longitude</td>\n",
    "<td>Continuous</td>\n",
    "<td>Longitude where the crime occured</td>\n",
    "</tr>\n",
    "\n",
    "</tbody>\n",
    "\n",
    "</table>"
   ]
  },
  {
   "cell_type": "markdown",
   "metadata": {},
   "source": [
    "### The Data \n"
   ]
  },
  {
   "cell_type": "markdown",
   "metadata": {},
   "source": [
    "** read in the crime data with pandas **"
   ]
  },
  {
   "cell_type": "code",
   "execution_count": 3,
   "metadata": {},
   "outputs": [],
   "source": [
    "crime = pd.read_csv(\"cleanBoston.csv\")"
   ]
  },
  {
   "cell_type": "code",
   "execution_count": 4,
   "metadata": {},
   "outputs": [
    {
     "data": {
      "text/html": [
       "<div>\n",
       "<style scoped>\n",
       "    .dataframe tbody tr th:only-of-type {\n",
       "        vertical-align: middle;\n",
       "    }\n",
       "\n",
       "    .dataframe tbody tr th {\n",
       "        vertical-align: top;\n",
       "    }\n",
       "\n",
       "    .dataframe thead th {\n",
       "        text-align: right;\n",
       "    }\n",
       "</style>\n",
       "<table border=\"1\" class=\"dataframe\">\n",
       "  <thead>\n",
       "    <tr style=\"text-align: right;\">\n",
       "      <th></th>\n",
       "      <th>OFFENSE_CODE</th>\n",
       "      <th>OFFENSE_CODE_GROUP</th>\n",
       "      <th>DISTRICT</th>\n",
       "      <th>REPORTING_AREA</th>\n",
       "      <th>SHOOTING</th>\n",
       "      <th>YEAR</th>\n",
       "      <th>MONTH</th>\n",
       "      <th>DAY_OF_WEEK</th>\n",
       "      <th>HOUR</th>\n",
       "      <th>UCR_PART</th>\n",
       "      <th>STREET</th>\n",
       "      <th>Lat</th>\n",
       "      <th>Long</th>\n",
       "      <th>DAY</th>\n",
       "    </tr>\n",
       "  </thead>\n",
       "  <tbody>\n",
       "    <tr>\n",
       "      <td>0</td>\n",
       "      <td>111</td>\n",
       "      <td>Homicide</td>\n",
       "      <td>E18</td>\n",
       "      <td>0</td>\n",
       "      <td>N</td>\n",
       "      <td>2015</td>\n",
       "      <td>7</td>\n",
       "      <td>Thursday</td>\n",
       "      <td>13</td>\n",
       "      <td>Part One</td>\n",
       "      <td>RIVER ST</td>\n",
       "      <td>42.255926</td>\n",
       "      <td>-71.123172</td>\n",
       "      <td>9</td>\n",
       "    </tr>\n",
       "    <tr>\n",
       "      <td>1</td>\n",
       "      <td>637</td>\n",
       "      <td>Larceny</td>\n",
       "      <td>B2</td>\n",
       "      <td>1</td>\n",
       "      <td>N</td>\n",
       "      <td>2018</td>\n",
       "      <td>12</td>\n",
       "      <td>Thursday</td>\n",
       "      <td>0</td>\n",
       "      <td>Part One</td>\n",
       "      <td>BROOKLEDGE ST</td>\n",
       "      <td>42.309563</td>\n",
       "      <td>-71.089902</td>\n",
       "      <td>13</td>\n",
       "    </tr>\n",
       "    <tr>\n",
       "      <td>2</td>\n",
       "      <td>403</td>\n",
       "      <td>Aggravated Assault</td>\n",
       "      <td>B3</td>\n",
       "      <td>2</td>\n",
       "      <td>N</td>\n",
       "      <td>2015</td>\n",
       "      <td>11</td>\n",
       "      <td>Friday</td>\n",
       "      <td>11</td>\n",
       "      <td>Part One</td>\n",
       "      <td>BLUE HILL AVE</td>\n",
       "      <td>42.301897</td>\n",
       "      <td>-71.085549</td>\n",
       "      <td>20</td>\n",
       "    </tr>\n",
       "    <tr>\n",
       "      <td>3</td>\n",
       "      <td>339</td>\n",
       "      <td>Robbery</td>\n",
       "      <td>A1</td>\n",
       "      <td>3</td>\n",
       "      <td>N</td>\n",
       "      <td>2015</td>\n",
       "      <td>7</td>\n",
       "      <td>Monday</td>\n",
       "      <td>10</td>\n",
       "      <td>Part One</td>\n",
       "      <td>BOWDOIN SQ</td>\n",
       "      <td>42.361645</td>\n",
       "      <td>-71.062299</td>\n",
       "      <td>27</td>\n",
       "    </tr>\n",
       "    <tr>\n",
       "      <td>4</td>\n",
       "      <td>629</td>\n",
       "      <td>Larceny</td>\n",
       "      <td>D4</td>\n",
       "      <td>4</td>\n",
       "      <td>N</td>\n",
       "      <td>2016</td>\n",
       "      <td>6</td>\n",
       "      <td>Sunday</td>\n",
       "      <td>17</td>\n",
       "      <td>Part One</td>\n",
       "      <td>COVENTRY ST</td>\n",
       "      <td>42.336951</td>\n",
       "      <td>-71.085748</td>\n",
       "      <td>5</td>\n",
       "    </tr>\n",
       "  </tbody>\n",
       "</table>\n",
       "</div>"
      ],
      "text/plain": [
       "   OFFENSE_CODE  OFFENSE_CODE_GROUP DISTRICT  REPORTING_AREA SHOOTING  YEAR  \\\n",
       "0           111            Homicide      E18               0        N  2015   \n",
       "1           637             Larceny       B2               1        N  2018   \n",
       "2           403  Aggravated Assault       B3               2        N  2015   \n",
       "3           339             Robbery       A1               3        N  2015   \n",
       "4           629             Larceny       D4               4        N  2016   \n",
       "\n",
       "   MONTH DAY_OF_WEEK  HOUR  UCR_PART         STREET        Lat       Long  DAY  \n",
       "0      7    Thursday    13  Part One       RIVER ST  42.255926 -71.123172    9  \n",
       "1     12    Thursday     0  Part One  BROOKLEDGE ST  42.309563 -71.089902   13  \n",
       "2     11      Friday    11  Part One  BLUE HILL AVE  42.301897 -71.085549   20  \n",
       "3      7      Monday    10  Part One     BOWDOIN SQ  42.361645 -71.062299   27  \n",
       "4      6      Sunday    17  Part One    COVENTRY ST  42.336951 -71.085748    5  "
      ]
     },
     "execution_count": 4,
     "metadata": {},
     "output_type": "execute_result"
    }
   ],
   "source": [
    "crime.head()"
   ]
  },
  {
   "cell_type": "code",
   "execution_count": 5,
   "metadata": {},
   "outputs": [],
   "source": [
    "crime['OFFENSE_CODE'] = crime['OFFENSE_CODE'].apply(np.int64)"
   ]
  },
  {
   "cell_type": "code",
   "execution_count": 6,
   "metadata": {},
   "outputs": [
    {
     "data": {
      "text/plain": [
       "197280"
      ]
     },
     "execution_count": 6,
     "metadata": {},
     "output_type": "execute_result"
    }
   ],
   "source": [
    "crime['UCR_PART'].count()"
   ]
  },
  {
   "cell_type": "code",
   "execution_count": null,
   "metadata": {},
   "outputs": [],
   "source": []
  },
  {
   "cell_type": "markdown",
   "metadata": {},
   "source": [
    "our label is the 'UCR_PART' column. we need to convert it from strings to = Part1 : 0, Part2: 1, Blank: 2"
   ]
  },
  {
   "cell_type": "code",
   "execution_count": 7,
   "metadata": {},
   "outputs": [
    {
     "data": {
      "text/plain": [
       "array(['Part One', 'Part Two', 'Blank'], dtype=object)"
      ]
     },
     "execution_count": 7,
     "metadata": {},
     "output_type": "execute_result"
    }
   ],
   "source": [
    "crime['UCR_PART'].unique()"
   ]
  },
  {
   "cell_type": "code",
   "execution_count": 8,
   "metadata": {},
   "outputs": [],
   "source": [
    "def label_fix(label):\n",
    "    if label=='Part One':\n",
    "        return 0\n",
    "    elif label == 'Part Two':\n",
    "        return 1\n",
    "    else:\n",
    "        return 2"
   ]
  },
  {
   "cell_type": "code",
   "execution_count": 9,
   "metadata": {},
   "outputs": [],
   "source": [
    "crime['UCR_PART'] = crime['UCR_PART'].apply(label_fix)"
   ]
  },
  {
   "cell_type": "markdown",
   "metadata": {},
   "source": [
    "### Perform a train test split on the data "
   ]
  },
  {
   "cell_type": "code",
   "execution_count": 10,
   "metadata": {},
   "outputs": [],
   "source": [
    "x_data = crime.drop('UCR_PART',axis=1)\n",
    "y_labels = crime['UCR_PART']\n",
    "# train test split is 70% 30%\n",
    "X_train, X_test, y_train, y_test = train_test_split(x_data,y_labels,test_size=0.3,random_state=101)"
   ]
  },
  {
   "cell_type": "code",
   "execution_count": 11,
   "metadata": {},
   "outputs": [],
   "source": [
    "# y_test.unique()\n"
   ]
  },
  {
   "cell_type": "markdown",
   "metadata": {},
   "source": [
    "### Create the Feature Columns for tf.esitmator"
   ]
  },
  {
   "cell_type": "code",
   "execution_count": 22,
   "metadata": {},
   "outputs": [
    {
     "data": {
      "text/plain": [
       "Index(['OFFENSE_CODE', 'OFFENSE_CODE_GROUP', 'DISTRICT', 'REPORTING_AREA',\n",
       "       'SHOOTING', 'YEAR', 'MONTH', 'DAY_OF_WEEK', 'HOUR', 'UCR_PART',\n",
       "       'STREET', 'Lat', 'Long', 'DAY'],\n",
       "      dtype='object')"
      ]
     },
     "execution_count": 22,
     "metadata": {},
     "output_type": "execute_result"
    }
   ],
   "source": [
    "crime.columns"
   ]
  },
  {
   "cell_type": "markdown",
   "metadata": {},
   "source": [
    "categorical columns = ['OFFENSE_CODE', 'OFFENSE_CODE_GROUP', 'DISTRICT', 'REPORTING_AREA', 'SHOOTING', 'DAY_OF_WEEK', 'STREET']\n",
    "continueus columns = ['YEAR', 'MONTH', 'HOUR', 'DAY', 'Lat', 'Long'] <br>\n",
    "label = ['UCR_PART']"
   ]
  },
  {
   "cell_type": "code",
   "execution_count": 23,
   "metadata": {},
   "outputs": [
    {
     "data": {
      "text/plain": [
       "3614"
      ]
     },
     "execution_count": 23,
     "metadata": {},
     "output_type": "execute_result"
    }
   ],
   "source": [
    "# number of unique values in each categorical group\n",
    "crime['OFFENSE_CODE'].nunique()\n",
    "crime['OFFENSE_CODE_GROUP'].nunique()\n",
    "crime['DISTRICT'].nunique()\n",
    "crime['REPORTING_AREA'].nunique()\n",
    "crime['SHOOTING'].nunique()\n",
    "crime['DAY_OF_WEEK'].nunique()\n",
    "crime['STREET'].nunique()"
   ]
  },
  {
   "cell_type": "markdown",
   "metadata": {},
   "source": [
    "Feature columns of categorical values"
   ]
  },
  {
   "cell_type": "code",
   "execution_count": 24,
   "metadata": {},
   "outputs": [],
   "source": [
    "offenceCode = tf.feature_column.categorical_column_with_hash_bucket('OFFENSE_CODE', hash_bucket_size=200)\n",
    "offenceCodeGroup = tf.feature_column.categorical_column_with_hash_bucket('OFFENSE_CODE_GROUP', hash_bucket_size=100)\n",
    "district = tf.feature_column.categorical_column_with_hash_bucket('DISTRICT', hash_bucket_size=15)\n",
    "area = tf.feature_column.categorical_column_with_hash_bucket('REPORTING_AREA', hash_bucket_size=1000)\n",
    "shooting = tf.feature_column.categorical_column_with_vocabulary_list('SHOOTING', ['Y', 'N'])\n",
    "dayOfWeek = tf.feature_column.categorical_column_with_hash_bucket('DAY_OF_WEEK', hash_bucket_size=10)\n",
    "street = tf.feature_column.categorical_column_with_hash_bucket('STREET', hash_bucket_size=4000)"
   ]
  },
  {
   "cell_type": "markdown",
   "metadata": {},
   "source": [
    "Feature columns of continuous values "
   ]
  },
  {
   "cell_type": "code",
   "execution_count": 25,
   "metadata": {},
   "outputs": [],
   "source": [
    "year = tf.feature_column.numeric_column('YEAR')\n",
    "month = tf.feature_column.numeric_column('MONTH')\n",
    "hour = tf.feature_column.numeric_column('HOUR')\n",
    "day = tf.feature_column.numeric_column('DAY')\n",
    "lat = tf.feature_column.numeric_column('Lat')\n",
    "long = tf.feature_column.numeric_column('Long')"
   ]
  },
  {
   "cell_type": "markdown",
   "metadata": {},
   "source": [
    "create a list of feature columns"
   ]
  },
  {
   "cell_type": "code",
   "execution_count": 26,
   "metadata": {},
   "outputs": [],
   "source": [
    "#offenceCode, , area\n",
    "feat_cols = [ offenceCodeGroup, district, shooting, dayOfWeek, street, year, month, hour, day, lat, long]"
   ]
  },
  {
   "cell_type": "code",
   "execution_count": 27,
   "metadata": {},
   "outputs": [],
   "source": [
    "#create input function \n",
    "input_func=tf.estimator.inputs.pandas_input_fn(x=X_train,y=y_train,batch_size=100,num_epochs=None,shuffle=True)"
   ]
  },
  {
   "cell_type": "code",
   "execution_count": 28,
   "metadata": {},
   "outputs": [
    {
     "name": "stdout",
     "output_type": "stream",
     "text": [
      "INFO:tensorflow:Using default config.\n",
      "WARNING:tensorflow:Using temporary folder as model directory: C:\\Users\\ahmed\\AppData\\Local\\Temp\\tmpvs6ezdcf\n",
      "INFO:tensorflow:Using config: {'_model_dir': 'C:\\\\Users\\\\ahmed\\\\AppData\\\\Local\\\\Temp\\\\tmpvs6ezdcf', '_tf_random_seed': None, '_save_summary_steps': 100, '_save_checkpoints_steps': None, '_save_checkpoints_secs': 600, '_session_config': allow_soft_placement: true\n",
      "graph_options {\n",
      "  rewrite_options {\n",
      "    meta_optimizer_iterations: ONE\n",
      "  }\n",
      "}\n",
      ", '_keep_checkpoint_max': 5, '_keep_checkpoint_every_n_hours': 10000, '_log_step_count_steps': 100, '_train_distribute': None, '_device_fn': None, '_protocol': None, '_eval_distribute': None, '_experimental_distribute': None, '_service': None, '_cluster_spec': <tensorflow.python.training.server_lib.ClusterSpec object at 0x0000024E2CDA8BC8>, '_task_type': 'worker', '_task_id': 0, '_global_id_in_cluster': 0, '_master': '', '_evaluation_master': '', '_is_chief': True, '_num_ps_replicas': 0, '_num_worker_replicas': 1}\n"
     ]
    }
   ],
   "source": [
    "# create a model with tf estimator\n",
    "model = tf.estimator.LinearClassifier(feature_columns=feat_cols, n_classes=3)"
   ]
  },
  {
   "cell_type": "code",
   "execution_count": 29,
   "metadata": {},
   "outputs": [
    {
     "name": "stdout",
     "output_type": "stream",
     "text": [
      "WARNING:tensorflow:From C:\\Users\\ahmed\\Anaconda3\\envs\\basetfdeeplearning\\lib\\site-packages\\tensorflow\\python\\framework\\op_def_library.py:263: colocate_with (from tensorflow.python.framework.ops) is deprecated and will be removed in a future version.\n",
      "Instructions for updating:\n",
      "Colocations handled automatically by placer.\n",
      "WARNING:tensorflow:From C:\\Users\\ahmed\\Anaconda3\\envs\\basetfdeeplearning\\lib\\site-packages\\tensorflow_estimator\\python\\estimator\\inputs\\queues\\feeding_queue_runner.py:62: QueueRunner.__init__ (from tensorflow.python.training.queue_runner_impl) is deprecated and will be removed in a future version.\n",
      "Instructions for updating:\n",
      "To construct input pipelines, use the `tf.data` module.\n",
      "WARNING:tensorflow:From C:\\Users\\ahmed\\Anaconda3\\envs\\basetfdeeplearning\\lib\\site-packages\\tensorflow_estimator\\python\\estimator\\inputs\\queues\\feeding_functions.py:500: add_queue_runner (from tensorflow.python.training.queue_runner_impl) is deprecated and will be removed in a future version.\n",
      "Instructions for updating:\n",
      "To construct input pipelines, use the `tf.data` module.\n",
      "INFO:tensorflow:Calling model_fn.\n",
      "WARNING:tensorflow:From C:\\Users\\ahmed\\Anaconda3\\envs\\basetfdeeplearning\\lib\\site-packages\\tensorflow\\python\\feature_column\\feature_column_v2.py:2703: to_float (from tensorflow.python.ops.math_ops) is deprecated and will be removed in a future version.\n",
      "Instructions for updating:\n",
      "Use tf.cast instead.\n",
      "WARNING:tensorflow:From C:\\Users\\ahmed\\Anaconda3\\envs\\basetfdeeplearning\\lib\\site-packages\\tensorflow\\python\\ops\\lookup_ops.py:1137: to_int64 (from tensorflow.python.ops.math_ops) is deprecated and will be removed in a future version.\n",
      "Instructions for updating:\n",
      "Use tf.cast instead.\n",
      "INFO:tensorflow:Done calling model_fn.\n",
      "INFO:tensorflow:Create CheckpointSaverHook.\n",
      "INFO:tensorflow:Graph was finalized.\n",
      "INFO:tensorflow:Running local_init_op.\n",
      "INFO:tensorflow:Done running local_init_op.\n",
      "WARNING:tensorflow:From C:\\Users\\ahmed\\Anaconda3\\envs\\basetfdeeplearning\\lib\\site-packages\\tensorflow\\python\\training\\monitored_session.py:809: start_queue_runners (from tensorflow.python.training.queue_runner_impl) is deprecated and will be removed in a future version.\n",
      "Instructions for updating:\n",
      "To construct input pipelines, use the `tf.data` module.\n",
      "INFO:tensorflow:Saving checkpoints for 0 into C:\\Users\\ahmed\\AppData\\Local\\Temp\\tmpvs6ezdcf\\model.ckpt.\n",
      "INFO:tensorflow:loss = 109.86121, step = 1\n",
      "INFO:tensorflow:global_step/sec: 85.6175\n",
      "INFO:tensorflow:loss = 1299.5792, step = 101 (1.184 sec)\n",
      "INFO:tensorflow:global_step/sec: 199.918\n",
      "INFO:tensorflow:loss = 2997.7598, step = 201 (0.484 sec)\n",
      "INFO:tensorflow:global_step/sec: 199.364\n",
      "INFO:tensorflow:loss = 0.18117209, step = 301 (0.518 sec)\n",
      "INFO:tensorflow:global_step/sec: 201.264\n",
      "INFO:tensorflow:loss = 0.25859842, step = 401 (0.500 sec)\n",
      "INFO:tensorflow:global_step/sec: 198.209\n",
      "INFO:tensorflow:loss = 0.5421655, step = 501 (0.485 sec)\n",
      "INFO:tensorflow:global_step/sec: 200.026\n",
      "INFO:tensorflow:loss = 0.36287907, step = 601 (0.518 sec)\n",
      "INFO:tensorflow:global_step/sec: 193.389\n",
      "INFO:tensorflow:loss = 0.39329052, step = 701 (0.505 sec)\n",
      "INFO:tensorflow:global_step/sec: 194.289\n",
      "INFO:tensorflow:loss = 0.32168603, step = 801 (0.509 sec)\n",
      "INFO:tensorflow:global_step/sec: 187.378\n",
      "INFO:tensorflow:loss = 0.21143526, step = 901 (0.539 sec)\n",
      "INFO:tensorflow:global_step/sec: 199.175\n",
      "INFO:tensorflow:loss = 0.1961249, step = 1001 (0.501 sec)\n",
      "INFO:tensorflow:global_step/sec: 194.764\n",
      "INFO:tensorflow:loss = 55.598415, step = 1101 (0.515 sec)\n",
      "INFO:tensorflow:global_step/sec: 200.616\n",
      "INFO:tensorflow:loss = 0.15861842, step = 1201 (0.516 sec)\n",
      "INFO:tensorflow:global_step/sec: 193.251\n",
      "INFO:tensorflow:loss = 0.34989095, step = 1301 (0.499 sec)\n",
      "INFO:tensorflow:global_step/sec: 209.291\n",
      "INFO:tensorflow:loss = 0.19617105, step = 1401 (0.497 sec)\n",
      "INFO:tensorflow:global_step/sec: 204.981\n",
      "INFO:tensorflow:loss = 0.17967999, step = 1501 (0.480 sec)\n",
      "INFO:tensorflow:global_step/sec: 203.519\n",
      "INFO:tensorflow:loss = 0.15186548, step = 1601 (0.475 sec)\n",
      "INFO:tensorflow:global_step/sec: 191.089\n",
      "INFO:tensorflow:loss = 0.14970368, step = 1701 (0.523 sec)\n",
      "INFO:tensorflow:global_step/sec: 197.411\n",
      "INFO:tensorflow:loss = 0.12128872, step = 1801 (0.508 sec)\n",
      "INFO:tensorflow:global_step/sec: 202.434\n",
      "INFO:tensorflow:loss = 0.21885505, step = 1901 (0.505 sec)\n",
      "INFO:tensorflow:global_step/sec: 203.516\n",
      "INFO:tensorflow:loss = 0.10100869, step = 2001 (0.479 sec)\n",
      "INFO:tensorflow:global_step/sec: 201.234\n",
      "INFO:tensorflow:loss = 0.13057716, step = 2101 (0.515 sec)\n",
      "INFO:tensorflow:global_step/sec: 198.361\n",
      "INFO:tensorflow:loss = 0.18673928, step = 2201 (0.499 sec)\n",
      "INFO:tensorflow:global_step/sec: 199.009\n",
      "INFO:tensorflow:loss = 0.09851632, step = 2301 (0.496 sec)\n",
      "INFO:tensorflow:global_step/sec: 205.475\n",
      "INFO:tensorflow:loss = 0.16821386, step = 2401 (0.481 sec)\n",
      "INFO:tensorflow:global_step/sec: 200.766\n",
      "INFO:tensorflow:loss = 0.1626322, step = 2501 (0.505 sec)\n",
      "INFO:tensorflow:global_step/sec: 205.712\n",
      "INFO:tensorflow:loss = 0.08006654, step = 2601 (0.496 sec)\n",
      "INFO:tensorflow:global_step/sec: 207.344\n",
      "INFO:tensorflow:loss = 0.092047155, step = 2701 (0.489 sec)\n",
      "INFO:tensorflow:global_step/sec: 199.627\n",
      "INFO:tensorflow:loss = 0.20546658, step = 2801 (0.478 sec)\n",
      "INFO:tensorflow:global_step/sec: 194.746\n",
      "INFO:tensorflow:loss = 0.08798772, step = 2901 (0.513 sec)\n",
      "INFO:tensorflow:global_step/sec: 197.023\n",
      "INFO:tensorflow:loss = 268.59412, step = 3001 (0.516 sec)\n",
      "INFO:tensorflow:global_step/sec: 198.516\n",
      "INFO:tensorflow:loss = 0.26338062, step = 3101 (0.504 sec)\n",
      "INFO:tensorflow:global_step/sec: 194.551\n",
      "INFO:tensorflow:loss = 0.15911122, step = 3201 (0.506 sec)\n",
      "INFO:tensorflow:global_step/sec: 206.565\n",
      "INFO:tensorflow:loss = 0.19059703, step = 3301 (0.501 sec)\n",
      "INFO:tensorflow:global_step/sec: 198.047\n",
      "INFO:tensorflow:loss = 0.14516242, step = 3401 (0.497 sec)\n",
      "INFO:tensorflow:global_step/sec: 195.029\n",
      "INFO:tensorflow:loss = 0.17199689, step = 3501 (0.511 sec)\n",
      "INFO:tensorflow:global_step/sec: 199.987\n",
      "INFO:tensorflow:loss = 0.07047847, step = 3601 (0.502 sec)\n",
      "INFO:tensorflow:global_step/sec: 193.952\n",
      "INFO:tensorflow:loss = 0.12851264, step = 3701 (0.514 sec)\n",
      "INFO:tensorflow:global_step/sec: 188.154\n",
      "INFO:tensorflow:loss = 0.08110703, step = 3801 (0.524 sec)\n",
      "INFO:tensorflow:global_step/sec: 187.138\n",
      "INFO:tensorflow:loss = 0.08798716, step = 3901 (0.541 sec)\n",
      "INFO:tensorflow:global_step/sec: 192.833\n",
      "INFO:tensorflow:loss = 0.09947723, step = 4001 (0.520 sec)\n",
      "INFO:tensorflow:global_step/sec: 194.79\n",
      "INFO:tensorflow:loss = 0.11805431, step = 4101 (0.510 sec)\n",
      "INFO:tensorflow:global_step/sec: 201.062\n",
      "INFO:tensorflow:loss = 0.15510747, step = 4201 (0.500 sec)\n",
      "INFO:tensorflow:global_step/sec: 194.97\n",
      "INFO:tensorflow:loss = 0.42903954, step = 4301 (0.510 sec)\n",
      "INFO:tensorflow:global_step/sec: 196.452\n",
      "INFO:tensorflow:loss = 0.11430887, step = 4401 (0.511 sec)\n",
      "INFO:tensorflow:global_step/sec: 200.564\n",
      "INFO:tensorflow:loss = 1.6837906, step = 4501 (0.500 sec)\n",
      "INFO:tensorflow:global_step/sec: 197.881\n",
      "INFO:tensorflow:loss = 0.117138974, step = 4601 (0.503 sec)\n",
      "INFO:tensorflow:global_step/sec: 199.544\n",
      "INFO:tensorflow:loss = 0.08573057, step = 4701 (0.497 sec)\n",
      "INFO:tensorflow:global_step/sec: 201.25\n",
      "INFO:tensorflow:loss = 0.16219018, step = 4801 (0.498 sec)\n",
      "INFO:tensorflow:global_step/sec: 192.697\n",
      "INFO:tensorflow:loss = 0.85308146, step = 4901 (0.522 sec)\n",
      "INFO:tensorflow:Saving checkpoints for 5000 into C:\\Users\\ahmed\\AppData\\Local\\Temp\\tmpvs6ezdcf\\model.ckpt.\n",
      "INFO:tensorflow:Loss for final step: 0.09025017.\n"
     ]
    },
    {
     "data": {
      "text/plain": [
       "<tensorflow_estimator.python.estimator.canned.linear.LinearClassifier at 0x24e2cda86c8>"
      ]
     },
     "execution_count": 29,
     "metadata": {},
     "output_type": "execute_result"
    }
   ],
   "source": [
    "model.train(input_fn=input_func,steps=5000)"
   ]
  },
  {
   "cell_type": "markdown",
   "metadata": {},
   "source": [
    "## Evaluation \n",
    "** Create a prediction input function. Remember to only supprt X_test data and keep shuffle=False. **\n"
   ]
  },
  {
   "cell_type": "code",
   "execution_count": 30,
   "metadata": {},
   "outputs": [],
   "source": [
    "eval_input_func = tf.estimator.inputs.pandas_input_fn(\n",
    "      x=X_test,\n",
    "      y=y_test,\n",
    "      batch_size=10,\n",
    "      num_epochs=1,\n",
    "      shuffle=False)"
   ]
  },
  {
   "cell_type": "code",
   "execution_count": 31,
   "metadata": {},
   "outputs": [
    {
     "name": "stdout",
     "output_type": "stream",
     "text": [
      "INFO:tensorflow:Calling model_fn.\n",
      "INFO:tensorflow:Done calling model_fn.\n",
      "INFO:tensorflow:Starting evaluation at 2019-12-01T22:52:12Z\n",
      "INFO:tensorflow:Graph was finalized.\n",
      "WARNING:tensorflow:From C:\\Users\\ahmed\\Anaconda3\\envs\\basetfdeeplearning\\lib\\site-packages\\tensorflow\\python\\training\\saver.py:1266: checkpoint_exists (from tensorflow.python.training.checkpoint_management) is deprecated and will be removed in a future version.\n",
      "Instructions for updating:\n",
      "Use standard file APIs to check for files with this prefix.\n",
      "INFO:tensorflow:Restoring parameters from C:\\Users\\ahmed\\AppData\\Local\\Temp\\tmpvs6ezdcf\\model.ckpt-5000\n",
      "INFO:tensorflow:Running local_init_op.\n",
      "INFO:tensorflow:Done running local_init_op.\n",
      "INFO:tensorflow:Finished evaluation at 2019-12-01-22:52:33\n",
      "INFO:tensorflow:Saving dict for global step 5000: accuracy = 0.99922276, average_loss = 0.0048986315, global_step = 5000, loss = 0.048981346\n",
      "INFO:tensorflow:Saving 'checkpoint_path' summary for global step 5000: C:\\Users\\ahmed\\AppData\\Local\\Temp\\tmpvs6ezdcf\\model.ckpt-5000\n"
     ]
    }
   ],
   "source": [
    "results = model.evaluate(eval_input_func)"
   ]
  },
  {
   "cell_type": "code",
   "execution_count": 32,
   "metadata": {},
   "outputs": [
    {
     "data": {
      "text/plain": [
       "{'accuracy': 0.99922276,\n",
       " 'average_loss': 0.0048986315,\n",
       " 'loss': 0.048981346,\n",
       " 'global_step': 5000}"
      ]
     },
     "execution_count": 32,
     "metadata": {},
     "output_type": "execute_result"
    }
   ],
   "source": [
    "results"
   ]
  },
  {
   "cell_type": "markdown",
   "metadata": {},
   "source": [
    "## DNN Model "
   ]
  },
  {
   "cell_type": "code",
   "execution_count": 12,
   "metadata": {},
   "outputs": [],
   "source": [
    "# dnn_model.train(input_fn=input_func,steps=1000)"
   ]
  },
  {
   "cell_type": "code",
   "execution_count": 13,
   "metadata": {},
   "outputs": [],
   "source": [
    "# offenceCode = tf.feature_column.categorical_column_with_hash_bucket('OFFENSE_CODE', hash_bucket_size=200)\n",
    "# offenceCodeGroup = tf.feature_column.categorical_column_with_hash_bucket('OFFENSE_CODE_GROUP', hash_bucket_size=100)\n",
    "# district = tf.feature_column.categorical_column_with_hash_bucket('DISTRICT', hash_bucket_size=15)\n",
    "# area = tf.feature_column.categorical_column_with_hash_bucket('REPORTING_AREA', hash_bucket_size=1000)\n",
    "# shooting = tf.feature_column.categorical_column_with_vocabulary_list('SHOOTING', ['Y', 'N'])\n",
    "# dayOfWeek = tf.feature_column.categorical_column_with_hash_bucket('DAY_OF_WEEK', hash_bucket_size=10)\n",
    "# street = tf.feature_column.categorical_column_with_hash_bucket('STREET', hash_bucket_size=4000)"
   ]
  },
  {
   "cell_type": "code",
   "execution_count": 14,
   "metadata": {},
   "outputs": [],
   "source": [
    "# number of unique values in each categorical group\n",
    "# crime['OFFENSE_CODE'].nunique()\n",
    "# crime['OFFENSE_CODE_GROUP'].nunique()\n",
    "# crime['DISTRICT'].nunique()\n",
    "# crime['REPORTING_AREA'].nunique()\n",
    "# crime['SHOOTING'].nunique()\n",
    "# crime['DAY_OF_WEEK'].nunique()\n",
    "# crime['STREET'].nunique()"
   ]
  },
  {
   "cell_type": "markdown",
   "metadata": {},
   "source": [
    "Feature columns of categorical values "
   ]
  },
  {
   "cell_type": "code",
   "execution_count": 15,
   "metadata": {},
   "outputs": [],
   "source": [
    "offenceCode = tf.feature_column.categorical_column_with_hash_bucket('OFFENSE_CODE', hash_bucket_size=200)\n",
    "offenceCodeGroup = tf.feature_column.categorical_column_with_hash_bucket('OFFENSE_CODE_GROUP', hash_bucket_size=100)\n",
    "district = tf.feature_column.categorical_column_with_hash_bucket('DISTRICT', hash_bucket_size=15)\n",
    "area = tf.feature_column.categorical_column_with_hash_bucket('REPORTING_AREA', hash_bucket_size=1000)\n",
    "shooting = tf.feature_column.categorical_column_with_vocabulary_list('SHOOTING', ['Y', 'N'])\n",
    "dayOfWeek = tf.feature_column.categorical_column_with_vocabulary_list('DAY_OF_WEEK', ['Sunday', 'Monday', 'Tuesday',\n",
    "                                                                                     'Wednesday', 'Thursday', 'Friday', 'Saturday'])\n",
    "street = tf.feature_column.categorical_column_with_hash_bucket('STREET', hash_bucket_size=4000)"
   ]
  },
  {
   "cell_type": "markdown",
   "metadata": {},
   "source": [
    "feature columns of continuous values "
   ]
  },
  {
   "cell_type": "code",
   "execution_count": 16,
   "metadata": {},
   "outputs": [],
   "source": [
    "year = tf.feature_column.numeric_column('YEAR')\n",
    "month = tf.feature_column.numeric_column('MONTH')\n",
    "hour = tf.feature_column.numeric_column('HOUR')\n",
    "day = tf.feature_column.numeric_column('DAY')\n",
    "lat = tf.feature_column.numeric_column('Lat')\n",
    "long = tf.feature_column.numeric_column('Long')"
   ]
  },
  {
   "cell_type": "markdown",
   "metadata": {},
   "source": [
    "embeding columns "
   ]
  },
  {
   "cell_type": "code",
   "execution_count": 17,
   "metadata": {},
   "outputs": [],
   "source": [
    "offenceCode_emb = tf.feature_column.embedding_column(offenceCode, dimension=155)\n",
    "offenceCodeGroup_emb = tf.feature_column.embedding_column(offenceCodeGroup, dimension=42)\n",
    "district_emb = tf.feature_column.embedding_column(district, dimension=12)\n",
    "area_emb = tf.feature_column.embedding_column(area, dimension=878)\n",
    "shooting_emb = tf.feature_column.embedding_column(shooting, dimension=2)\n",
    "dayOfWeek_emb = tf.feature_column.indicator_column(dayOfWeek)\n",
    "street_emb = tf.feature_column.embedding_column(street, dimension=3614)"
   ]
  },
  {
   "cell_type": "code",
   "execution_count": 18,
   "metadata": {},
   "outputs": [],
   "source": [
    "# offenceCode_emb, area_emb,\n",
    "feat_cols2 = [  offenceCodeGroup_emb, district_emb ,  shooting_emb, dayOfWeek_emb , street_emb, year, month, hour, day, lat, long]"
   ]
  },
  {
   "cell_type": "code",
   "execution_count": 19,
   "metadata": {},
   "outputs": [],
   "source": [
    "input_func = tf.estimator.inputs.pandas_input_fn(x=X_train,y=y_train,batch_size=10,num_epochs=20,shuffle=True)"
   ]
  },
  {
   "cell_type": "code",
   "execution_count": 20,
   "metadata": {},
   "outputs": [
    {
     "name": "stdout",
     "output_type": "stream",
     "text": [
      "INFO:tensorflow:Using default config.\n",
      "WARNING:tensorflow:Using temporary folder as model directory: C:\\Users\\ahmed\\AppData\\Local\\Temp\\tmpa4cf_vqd\n",
      "INFO:tensorflow:Using config: {'_model_dir': 'C:\\\\Users\\\\ahmed\\\\AppData\\\\Local\\\\Temp\\\\tmpa4cf_vqd', '_tf_random_seed': None, '_save_summary_steps': 100, '_save_checkpoints_steps': None, '_save_checkpoints_secs': 600, '_session_config': allow_soft_placement: true\n",
      "graph_options {\n",
      "  rewrite_options {\n",
      "    meta_optimizer_iterations: ONE\n",
      "  }\n",
      "}\n",
      ", '_keep_checkpoint_max': 5, '_keep_checkpoint_every_n_hours': 10000, '_log_step_count_steps': 100, '_train_distribute': None, '_device_fn': None, '_protocol': None, '_eval_distribute': None, '_experimental_distribute': None, '_service': None, '_cluster_spec': <tensorflow.python.training.server_lib.ClusterSpec object at 0x00000243463CF5C8>, '_task_type': 'worker', '_task_id': 0, '_global_id_in_cluster': 0, '_master': '', '_evaluation_master': '', '_is_chief': True, '_num_ps_replicas': 0, '_num_worker_replicas': 1}\n"
     ]
    }
   ],
   "source": [
    "dnn_model = tf.estimator.DNNClassifier(hidden_units=[20,15,10],feature_columns=feat_cols2,n_classes=3)"
   ]
  },
  {
   "cell_type": "code",
   "execution_count": 21,
   "metadata": {},
   "outputs": [
    {
     "name": "stdout",
     "output_type": "stream",
     "text": [
      "WARNING:tensorflow:From C:\\Users\\ahmed\\Anaconda3\\envs\\basetfdeeplearning\\lib\\site-packages\\tensorflow\\python\\framework\\op_def_library.py:263: colocate_with (from tensorflow.python.framework.ops) is deprecated and will be removed in a future version.\n",
      "Instructions for updating:\n",
      "Colocations handled automatically by placer.\n",
      "WARNING:tensorflow:From C:\\Users\\ahmed\\Anaconda3\\envs\\basetfdeeplearning\\lib\\site-packages\\tensorflow_estimator\\python\\estimator\\inputs\\queues\\feeding_queue_runner.py:62: QueueRunner.__init__ (from tensorflow.python.training.queue_runner_impl) is deprecated and will be removed in a future version.\n",
      "Instructions for updating:\n",
      "To construct input pipelines, use the `tf.data` module.\n",
      "WARNING:tensorflow:From C:\\Users\\ahmed\\Anaconda3\\envs\\basetfdeeplearning\\lib\\site-packages\\tensorflow_estimator\\python\\estimator\\inputs\\queues\\feeding_functions.py:500: add_queue_runner (from tensorflow.python.training.queue_runner_impl) is deprecated and will be removed in a future version.\n",
      "Instructions for updating:\n",
      "To construct input pipelines, use the `tf.data` module.\n",
      "INFO:tensorflow:Calling model_fn.\n",
      "WARNING:tensorflow:From C:\\Users\\ahmed\\Anaconda3\\envs\\basetfdeeplearning\\lib\\site-packages\\tensorflow\\python\\feature_column\\feature_column_v2.py:2997: HashedCategoricalColumn._num_buckets (from tensorflow.python.feature_column.feature_column_v2) is deprecated and will be removed after 2018-11-30.\n",
      "Instructions for updating:\n",
      "The old _FeatureColumn APIs are being deprecated. Please use the new FeatureColumn APIs instead.\n",
      "WARNING:tensorflow:From C:\\Users\\ahmed\\Anaconda3\\envs\\basetfdeeplearning\\lib\\site-packages\\tensorflow\\python\\feature_column\\feature_column_v2.py:2997: VocabularyListCategoricalColumn._num_buckets (from tensorflow.python.feature_column.feature_column_v2) is deprecated and will be removed after 2018-11-30.\n",
      "Instructions for updating:\n",
      "The old _FeatureColumn APIs are being deprecated. Please use the new FeatureColumn APIs instead.\n",
      "WARNING:tensorflow:From C:\\Users\\ahmed\\Anaconda3\\envs\\basetfdeeplearning\\lib\\site-packages\\tensorflow\\python\\feature_column\\feature_column_v2.py:2703: to_float (from tensorflow.python.ops.math_ops) is deprecated and will be removed in a future version.\n",
      "Instructions for updating:\n",
      "Use tf.cast instead.\n",
      "WARNING:tensorflow:From C:\\Users\\ahmed\\Anaconda3\\envs\\basetfdeeplearning\\lib\\site-packages\\tensorflow\\python\\ops\\lookup_ops.py:1137: to_int64 (from tensorflow.python.ops.math_ops) is deprecated and will be removed in a future version.\n",
      "Instructions for updating:\n",
      "Use tf.cast instead.\n",
      "WARNING:tensorflow:From C:\\Users\\ahmed\\Anaconda3\\envs\\basetfdeeplearning\\lib\\site-packages\\tensorflow\\python\\feature_column\\feature_column_v2.py:4266: IndicatorColumn._variable_shape (from tensorflow.python.feature_column.feature_column_v2) is deprecated and will be removed after 2018-11-30.\n",
      "Instructions for updating:\n",
      "The old _FeatureColumn APIs are being deprecated. Please use the new FeatureColumn APIs instead.\n",
      "WARNING:tensorflow:From C:\\Users\\ahmed\\Anaconda3\\envs\\basetfdeeplearning\\lib\\site-packages\\tensorflow\\python\\ops\\array_grad.py:425: to_int32 (from tensorflow.python.ops.math_ops) is deprecated and will be removed in a future version.\n",
      "Instructions for updating:\n",
      "Use tf.cast instead.\n",
      "INFO:tensorflow:Done calling model_fn.\n",
      "INFO:tensorflow:Create CheckpointSaverHook.\n",
      "INFO:tensorflow:Graph was finalized.\n",
      "INFO:tensorflow:Running local_init_op.\n",
      "INFO:tensorflow:Done running local_init_op.\n",
      "WARNING:tensorflow:From C:\\Users\\ahmed\\Anaconda3\\envs\\basetfdeeplearning\\lib\\site-packages\\tensorflow\\python\\training\\monitored_session.py:809: start_queue_runners (from tensorflow.python.training.queue_runner_impl) is deprecated and will be removed in a future version.\n",
      "Instructions for updating:\n",
      "To construct input pipelines, use the `tf.data` module.\n",
      "INFO:tensorflow:Saving checkpoints for 0 into C:\\Users\\ahmed\\AppData\\Local\\Temp\\tmpa4cf_vqd\\model.ckpt.\n",
      "INFO:tensorflow:loss = 236.29616, step = 1\n",
      "INFO:tensorflow:global_step/sec: 249.422\n",
      "INFO:tensorflow:loss = 7.612279, step = 101 (0.402 sec)\n",
      "INFO:tensorflow:global_step/sec: 424.859\n",
      "INFO:tensorflow:loss = 7.7511044, step = 201 (0.234 sec)\n",
      "INFO:tensorflow:global_step/sec: 423.069\n",
      "INFO:tensorflow:loss = 6.1270046, step = 301 (0.237 sec)\n",
      "INFO:tensorflow:global_step/sec: 443.663\n",
      "INFO:tensorflow:loss = 7.912278, step = 401 (0.224 sec)\n",
      "INFO:tensorflow:global_step/sec: 417.778\n",
      "INFO:tensorflow:loss = 5.257882, step = 501 (0.241 sec)\n",
      "INFO:tensorflow:global_step/sec: 372.743\n",
      "INFO:tensorflow:loss = 2.8464282, step = 601 (0.267 sec)\n",
      "INFO:tensorflow:global_step/sec: 421.291\n",
      "INFO:tensorflow:loss = 5.020406, step = 701 (0.237 sec)\n",
      "INFO:tensorflow:global_step/sec: 424.858\n",
      "INFO:tensorflow:loss = 0.5457734, step = 801 (0.236 sec)\n",
      "INFO:tensorflow:global_step/sec: 447.624\n",
      "INFO:tensorflow:loss = 0.18525206, step = 901 (0.223 sec)\n",
      "INFO:tensorflow:Saving checkpoints for 1000 into C:\\Users\\ahmed\\AppData\\Local\\Temp\\tmpa4cf_vqd\\model.ckpt.\n",
      "INFO:tensorflow:Loss for final step: 1.4869192.\n"
     ]
    },
    {
     "data": {
      "text/plain": [
       "<tensorflow_estimator.python.estimator.canned.dnn.DNNClassifier at 0x243463c6908>"
      ]
     },
     "execution_count": 21,
     "metadata": {},
     "output_type": "execute_result"
    }
   ],
   "source": [
    "\n",
    "dnn_model.train(input_fn=input_func,steps=1000 )\n",
    "\n"
   ]
  },
  {
   "cell_type": "markdown",
   "metadata": {},
   "source": [
    "## Evaluate "
   ]
  },
  {
   "cell_type": "code",
   "execution_count": 22,
   "metadata": {},
   "outputs": [],
   "source": [
    "eval_input_func = tf.estimator.inputs.pandas_input_fn(\n",
    "      x=X_test,\n",
    "      y=y_test,\n",
    "      batch_size=10,\n",
    "      num_epochs=1,\n",
    "      shuffle=False)"
   ]
  },
  {
   "cell_type": "code",
   "execution_count": 30,
   "metadata": {},
   "outputs": [
    {
     "name": "stdout",
     "output_type": "stream",
     "text": [
      "INFO:tensorflow:Calling model_fn.\n",
      "INFO:tensorflow:Done calling model_fn.\n",
      "INFO:tensorflow:Starting evaluation at 2019-12-03T21:11:31Z\n",
      "INFO:tensorflow:Graph was finalized.\n",
      "INFO:tensorflow:Restoring parameters from C:\\Users\\ahmed\\AppData\\Local\\Temp\\tmpa4cf_vqd\\model.ckpt-1000\n",
      "INFO:tensorflow:Running local_init_op.\n",
      "INFO:tensorflow:Done running local_init_op.\n",
      "INFO:tensorflow:Evaluation [100/1000]\n",
      "INFO:tensorflow:Evaluation [200/1000]\n",
      "INFO:tensorflow:Evaluation [300/1000]\n",
      "INFO:tensorflow:Evaluation [400/1000]\n",
      "INFO:tensorflow:Evaluation [500/1000]\n",
      "INFO:tensorflow:Evaluation [600/1000]\n",
      "INFO:tensorflow:Evaluation [700/1000]\n",
      "INFO:tensorflow:Evaluation [800/1000]\n",
      "INFO:tensorflow:Evaluation [900/1000]\n",
      "INFO:tensorflow:Evaluation [1000/1000]\n",
      "INFO:tensorflow:Finished evaluation at 2019-12-03-21:11:33\n",
      "INFO:tensorflow:Saving dict for global step 1000: accuracy = 0.9824, average_loss = 0.058494434, global_step = 1000, loss = 0.5849443\n",
      "INFO:tensorflow:Saving 'checkpoint_path' summary for global step 1000: C:\\Users\\ahmed\\AppData\\Local\\Temp\\tmpa4cf_vqd\\model.ckpt-1000\n"
     ]
    }
   ],
   "source": [
    "results = dnn_model.evaluate(eval_input_func, steps=1000)"
   ]
  },
  {
   "cell_type": "code",
   "execution_count": 31,
   "metadata": {},
   "outputs": [
    {
     "data": {
      "text/plain": [
       "{'accuracy': 0.9824,\n",
       " 'average_loss': 0.058494434,\n",
       " 'loss': 0.5849443,\n",
       " 'global_step': 1000}"
      ]
     },
     "execution_count": 31,
     "metadata": {},
     "output_type": "execute_result"
    }
   ],
   "source": [
    "results"
   ]
  },
  {
   "cell_type": "markdown",
   "metadata": {},
   "source": [
    "# Visulalize "
   ]
  },
  {
   "cell_type": "code",
   "execution_count": 25,
   "metadata": {},
   "outputs": [],
   "source": [
    "loss_history = [236.29616, 7.612279, 7.7511044, 6.1270046, \n",
    "                7.912278, 5.257882, 2.8464282, 5.020406, 0.5457734,\n",
    "                0.18525206]\n",
    "steps = [1,101,201,301,401,501,601,701,801,901]"
   ]
  },
  {
   "cell_type": "code",
   "execution_count": 36,
   "metadata": {},
   "outputs": [
    {
     "data": {
      "image/png": "[encoded data removed]",
      "text/plain": [
       "<Figure size 432x288 with 1 Axes>"
      ]
     },
     "metadata": {
      "needs_background": "light"
     },
     "output_type": "display_data"
    }
   ],
   "source": [
    "plt.plot(steps, loss_history)\n",
    "plt.xlabel('Number of Steps')\n",
    "plt.ylabel('Loss')\n",
    "plt.title('Training Loss')\n",
    "plt.savefig('trainingLoss.jpg')\n",
    "plt.grid()\n"
   ]
  },
  {
   "cell_type": "code",
   "execution_count": null,
   "metadata": {},
   "outputs": [],
   "source": []
  },
  {
   "cell_type": "code",
   "execution_count": null,
   "metadata": {},
   "outputs": [],
   "source": []
  }
 ],
 "metadata": {
  "kernelspec": {
   "display_name": "Python 3",
   "language": "python",
   "name": "python3"
  },
  "language_info": {
   "codemirror_mode": {
    "name": "ipython",
    "version": 3
   },
   "file_extension": ".py",
   "mimetype": "text/x-python",
   "name": "python",
   "nbconvert_exporter": "python",
   "pygments_lexer": "ipython3",
   "version": "3.7.4"
  }
 },
 "nbformat": 4,
 "nbformat_minor": 2
}
